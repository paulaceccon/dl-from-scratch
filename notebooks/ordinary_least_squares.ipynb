{
 "cells": [
  {
   "cell_type": "markdown",
   "id": "f76a8bc6",
   "metadata": {},
   "source": [
    "### Ordinary Least Square\n",
    "\n",
    "#### References:\n",
    "- [OLS Algorithm](https://en.wikipedia.org/wiki/Ordinary_least_squares)\n",
    "- [Scikit-learn OLS](https://scikit-learn.org/stable/modules/generated/sklearn.linear_model.LinearRegression.html#sklearn.linear_model.LinearRegression)\n",
    "\n",
    "<a href=\"https://colab.research.google.com/github/paulaceccon/ml-from-scratch/blob/main/notebooks/ols.ipynb\" target=\"_parent\" style=\"float: left;\"><img src=\"https://colab.research.google.com/assets/colab-badge.svg\" alt=\"Open In Colab\"/></a>"
   ]
  },
  {
   "cell_type": "code",
   "execution_count": 1,
   "id": "0792d91b",
   "metadata": {
    "ExecuteTime": {
     "end_time": "2022-01-03T22:28:38.482952Z",
     "start_time": "2022-01-03T22:28:36.656568Z"
    }
   },
   "outputs": [],
   "source": [
    "import math\n",
    "\n",
    "import matplotlib.pyplot as plt\n",
    "import numpy as np\n",
    "import seaborn as sns\n",
    "from sklearn import datasets\n",
    "from sklearn.preprocessing import StandardScaler\n",
    "\n",
    "%matplotlib inline"
   ]
  },
  {
   "cell_type": "code",
   "execution_count": 2,
   "id": "1035aef9",
   "metadata": {
    "ExecuteTime": {
     "end_time": "2022-01-03T22:28:38.495677Z",
     "start_time": "2022-01-03T22:28:38.484702Z"
    }
   },
   "outputs": [],
   "source": [
    "X, y = datasets.load_diabetes(return_X_y=True)\n",
    "\n",
    "# We only take the first feature (for visualization purposes).\n",
    "X = X[:, np.newaxis, 2]\n",
    "\n",
    "# Split the data into training/testing sets\n",
    "X_train = X[:-20]\n",
    "X_test = X[-20:]\n",
    "y_train = y[:-20]\n",
    "y_test = y[-20:]"
   ]
  },
  {
   "cell_type": "code",
   "execution_count": 3,
   "id": "8c9241df",
   "metadata": {
    "ExecuteTime": {
     "end_time": "2022-01-03T22:28:38.658559Z",
     "start_time": "2022-01-03T22:28:38.500874Z"
    }
   },
   "outputs": [
    {
     "data": {
      "image/png": "[encoded data removed]",
      "text/plain": [
       "<Figure size 432x288 with 1 Axes>"
      ]
     },
     "metadata": {
      "needs_background": "light"
     },
     "output_type": "display_data"
    }
   ],
   "source": [
    "# Input data\n",
    "sns.scatterplot(x=X_train[:, 0], y=y_train, label=\"train\", edgecolor=None, color=\"blue\")\n",
    "# To predict\n",
    "sns.scatterplot(\n",
    "    x=X_test[:, 0],\n",
    "    y=y_test,\n",
    "    label=\"test\",\n",
    "    edgecolor=None,\n",
    "    marker=\"*\",\n",
    "    color=\"red\",\n",
    ");"
   ]
  },
  {
   "cell_type": "markdown",
   "id": "30b557aa",
   "metadata": {},
   "source": [
    "#### Model:\n",
    "\n",
    "$ \\hat{y}_{i} = \\sum_{i}^{D} w_i \\cdot x_i $, where $x_i = 1$\n",
    "\n",
    "- In matrix form:\n",
    "\n",
    "$ \\hat{\\mathbf{y}} = X \\mathbf{w} $ \n",
    "\n",
    "#### Residual Sum of Squares (cost function)\n",
    "\n",
    "$ \\text{RSS}(\\mathbf{w}) = \\sum_{i}^{D} (y_i - \\hat{y}_i)^2 = \\sum_{i}^{D} (y_i - w_i \\cdot x_i)^2$ \n",
    "\n",
    "- In matrix form:\n",
    "\n",
    "$ \\text{RSS}(\\mathbf{w}) = (\\mathbf{y} - X \\mathbf{w})^T (\\mathbf{y} - X \\cdot \\mathbf{w}) $\n",
    "\n",
    "#### Gradient of the cost function\n",
    "\n",
    "$ \\nabla \\text{RSS}(\\mathbf{w}) = \\nabla[(\\mathbf{y} - X \\mathbf{w})^T (\\mathbf{y} - X \\mathbf{w})] = -2X^T (\\mathbf{y} - X \\mathbf{w})$"
   ]
  },
  {
   "cell_type": "code",
   "execution_count": 4,
   "id": "1faf8335",
   "metadata": {
    "ExecuteTime": {
     "end_time": "2022-01-03T22:28:38.670350Z",
     "start_time": "2022-01-03T22:28:38.660290Z"
    }
   },
   "outputs": [],
   "source": [
    "class LinearRegression:\n",
    "    \"\"\"\n",
    "    Ordinary least squares Linear Regression.\n",
    "\n",
    "    Args:\n",
    "        learning_rate: learning rate to be used.\n",
    "        tolerance: threshold to be used to check for convergence.\n",
    "    \"\"\"\n",
    "\n",
    "    def __init__(self, learning_rate: float = 1e-5, tolerance: float = 1e4):\n",
    "        self._learning_rate: float = learning_rate\n",
    "        self._tolerance: float = tolerance\n",
    "        self._fitted: bool = False\n",
    "\n",
    "    def fit(self, X: np.ndarray, y: np.ndarray) -> None:\n",
    "        \"\"\"Fit linear model.\"\"\"\n",
    "        self._X: np.ndarray = X\n",
    "        self._y: np.ndarray = y[:, np.newaxis]\n",
    "        self._m, self._n = self._X.shape  # rows, features\n",
    "        self._weights: np.ndarray = np.zeros((self._n, 1))\n",
    "\n",
    "        self._train()\n",
    "\n",
    "    def predict(self, X: np.ndarray, add_bias: bool = True) -> np.ndarray:\n",
    "        \"\"\"Predict using the linear model.\"\"\"\n",
    "        assert self._fitted, \"Model not fitted.\"\n",
    "        if add_bias:\n",
    "            X = np.c_[np.ones((X.shape[0], 1)), X]\n",
    "\n",
    "        predictions = np.dot(X, self._weights)\n",
    "        return predictions\n",
    "\n",
    "    def _train(self) -> None:\n",
    "        \"\"\"\n",
    "        Generate the clusters from the traning data.\n",
    "\n",
    "        Algorithm:\n",
    "            1. Initiliaze weights.\n",
    "            2. Compute the cost.\n",
    "            3. Calculate the gradient.\n",
    "            4. Update weights.\n",
    "            4. Repeat from 2 until convergence.\n",
    "        \"\"\"\n",
    "        # Add bias term\n",
    "        self._X = np.c_[np.ones((self._m, 1)), self._X]\n",
    "        self._weights = np.r_[np.ones((1, 1)), self._weights]\n",
    "\n",
    "        self._fitted = True\n",
    "\n",
    "        converged = False\n",
    "        iterations = 0\n",
    "        while not converged:\n",
    "            iterations += 1\n",
    "            y_hat = self.predict(self._X, add_bias=False)\n",
    "            residuals = self._residuals(self._y, y_hat)\n",
    "            gradients = self._gradients(self._X, residuals)\n",
    "            self._weights -= self._learning_rate * gradients\n",
    "\n",
    "            gradient_magnitude = np.linalg.norm(gradients)\n",
    "            self._check_diverging(gradient_magnitude)\n",
    "\n",
    "            if gradient_magnitude < self._tolerance:\n",
    "                converged = True\n",
    "\n",
    "    def _residuals(self, y: np.ndarray, y_hat: np.ndarray) -> np.ndarray:\n",
    "        \"\"\"Calculate residuals.\"\"\"\n",
    "        residuals = y - y_hat\n",
    "        return residuals\n",
    "\n",
    "    def _gradients(self, X: np.ndarray, residuals: np.ndarray) -> np.ndarray:\n",
    "        \"\"\"Calculate gradients for gradient descent step.\"\"\"\n",
    "        gradients = -2 * np.dot(X.T, residuals)\n",
    "        return gradients\n",
    "\n",
    "    def _check_diverging(self, gradient_magnitude: float) -> None:\n",
    "        \"\"\"Helper to check for solution diverging.\"\"\"\n",
    "        if math.isnan(gradient_magnitude) or math.isinf(gradient_magnitude):\n",
    "            raise ValueError(\n",
    "                \"Looks like solution is diverging. Check your learning rate!\"\n",
    "            )"
   ]
  },
  {
   "cell_type": "code",
   "execution_count": 5,
   "id": "ade20758",
   "metadata": {
    "ExecuteTime": {
     "end_time": "2022-01-03T22:28:38.675362Z",
     "start_time": "2022-01-03T22:28:38.672355Z"
    }
   },
   "outputs": [],
   "source": [
    "scaler = StandardScaler()\n",
    "X_train = scaler.fit_transform(X_train)\n",
    "X_test = scaler.transform(X_test)"
   ]
  },
  {
   "cell_type": "code",
   "execution_count": 6,
   "id": "fbd1cb33",
   "metadata": {
    "ExecuteTime": {
     "end_time": "2022-01-03T22:28:38.688094Z",
     "start_time": "2022-01-03T22:28:38.676910Z"
    }
   },
   "outputs": [],
   "source": [
    "clf = LinearRegression()\n",
    "clf.fit(X_train, y_train)"
   ]
  },
  {
   "cell_type": "code",
   "execution_count": 7,
   "id": "eae2f7f5",
   "metadata": {
    "ExecuteTime": {
     "end_time": "2022-01-03T22:28:38.691832Z",
     "start_time": "2022-01-03T22:28:38.689404Z"
    }
   },
   "outputs": [],
   "source": [
    "y_pred = clf.predict(X_test)"
   ]
  },
  {
   "cell_type": "code",
   "execution_count": 9,
   "id": "cd58561c",
   "metadata": {
    "ExecuteTime": {
     "end_time": "2022-01-03T22:28:46.040835Z",
     "start_time": "2022-01-03T22:28:45.894096Z"
    }
   },
   "outputs": [
    {
     "data": {
      "image/png": "[encoded data removed]",
      "text/plain": [
       "<Figure size 432x288 with 1 Axes>"
      ]
     },
     "metadata": {
      "needs_background": "light"
     },
     "output_type": "display_data"
    }
   ],
   "source": [
    "# Input data\n",
    "sns.scatterplot(x=X_train[:, 0], y=y_train, label=\"train\", edgecolor=None, color=\"blue\")\n",
    "# To predict\n",
    "sns.scatterplot(\n",
    "    x=X_test[:, 0],\n",
    "    y=y_test,\n",
    "    label=\"test\",\n",
    "    edgecolor=None,\n",
    "    marker=\"*\",\n",
    "    color=\"red\",\n",
    ")\n",
    "plt.plot(X_test, y_pred, color=\"orange\");"
   ]
  }
 ],
 "metadata": {
  "kernelspec": {
   "display_name": "Python 3 (ipykernel)",
   "language": "python",
   "name": "python3"
  },
  "language_info": {
   "codemirror_mode": {
    "name": "ipython",
    "version": 3
   },
   "file_extension": ".py",
   "mimetype": "text/x-python",
   "name": "python",
   "nbconvert_exporter": "python",
   "pygments_lexer": "ipython3",
   "version": "3.9.9"
  },
  "toc": {
   "base_numbering": 1,
   "nav_menu": {},
   "number_sections": false,
   "sideBar": true,
   "skip_h1_title": true,
   "title_cell": "Table of Contents",
   "title_sidebar": "Contents",
   "toc_cell": false,
   "toc_position": {
    "height": "calc(100% - 180px)",
    "left": "10px",
    "top": "150px",
    "width": "165px"
   },
   "toc_section_display": true,
   "toc_window_display": false
  }
 },
 "nbformat": 4,
 "nbformat_minor": 5
}

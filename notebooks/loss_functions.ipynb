{
 "cells": [
  {
   "cell_type": "markdown",
   "id": "f76a8bc6",
   "metadata": {},
   "source": [
    "### Loss Functions\n",
    "\n",
    "#### References:\n",
    "- [Cross-Entropy](https://machinelearningmastery.com/cross-entropy-for-machine-learning/)\n",
    "- [Cross-Entropy Loss Explained](https://vitalflux.com/cross-entropy-loss-explained-with-python-examples/)\n",
    "- [Binary Cross-Entropy Explained](https://sparrow.dev/binary-cross-entropy/)\n",
    "\n",
    "<a href=\"https://colab.research.google.com/github/paulaceccon/ml-from-scratch/blob/main/notebooks/loss_functions.ipynb\" target=\"_parent\" style=\"float: left;\"><img src=\"https://colab.research.google.com/assets/colab-badge.svg\" alt=\"Open In Colab\"/></a>"
   ]
  },
  {
   "cell_type": "code",
   "execution_count": 1,
   "id": "e048015c",
   "metadata": {
    "ExecuteTime": {
     "end_time": "2021-12-16T14:15:31.715270Z",
     "start_time": "2021-12-16T14:15:30.388113Z"
    }
   },
   "outputs": [],
   "source": [
    "import matplotlib.pyplot as plt\n",
    "import numpy as np\n",
    "\n",
    "%matplotlib inline"
   ]
  },
  {
   "cell_type": "markdown",
   "id": "ca0bcc5e",
   "metadata": {},
   "source": [
    "### Regression\n",
    "\n",
    "- **Output Layer Configuration:** One node with a linear activation unit.\n",
    "- **Loss Function:** MSE, RMSE, MAE."
   ]
  },
  {
   "cell_type": "code",
   "execution_count": 2,
   "id": "fc52f42d",
   "metadata": {
    "ExecuteTime": {
     "end_time": "2021-12-16T14:15:31.725454Z",
     "start_time": "2021-12-16T14:15:31.718659Z"
    }
   },
   "outputs": [],
   "source": [
    "def mse(y_true: np.ndarray, y_pred: np.ndarray) -> float:\n",
    "    return (np.square(y_true - y_pred)).mean()"
   ]
  },
  {
   "cell_type": "markdown",
   "id": "ec1f1c8c",
   "metadata": {},
   "source": [
    "### Binary Classification\n",
    "\n",
    "- **Output Layer Configuration:** One node with a sigmoid activation unit.\n",
    "- **Loss Function:** Cross-Entropy, also referred to as Logarithmic loss."
   ]
  },
  {
   "cell_type": "code",
   "execution_count": 3,
   "id": "e331ed5e",
   "metadata": {
    "ExecuteTime": {
     "end_time": "2021-12-16T14:15:31.741262Z",
     "start_time": "2021-12-16T14:15:31.736314Z"
    }
   },
   "outputs": [],
   "source": [
    "def binary_cross_entropy(y_true: np.ndarray, y_pred: np.ndarray) -> float:\n",
    "    \"\"\"\n",
    "    y_true: ground-truth labels where each is one of (0, 1)\n",
    "    y_pred: predictions between [0, 1]\n",
    "    \"\"\"\n",
    "    return -(y_true * np.log(y_pred) + (1 - y_true) * np.log(1 - y_pred)).mean()"
   ]
  },
  {
   "cell_type": "markdown",
   "id": "fcc670e4",
   "metadata": {},
   "source": [
    "- We can't use a model that predicts 0 or 1 for `y_pred`. This is because `np.log(0)` is `-inf`. For this reason, we typically apply the sigmoid activation function to raw model outputs. This allows values to get close to 0 or 1, but never actually reach the extremes of the range.\n",
    "- For `y = 1`, if predicted probability is near 1, loss function out, `J(W)`, is close to 0 otherwise it is close to infinity.\n",
    "- For `y = 0`, if predicted probability is near 0, loss function out, `J(W)`, is close to 0 otherwise it is close to infinity.\n",
    "- Cross entropy loss is high when the predicted probability is way different than the actual class label (0 or 1).\n",
    "- Cross entropy loss is loss when the predicted probability is closer or nearer to the actual class label (0 or 1)."
   ]
  },
  {
   "cell_type": "code",
   "execution_count": 4,
   "id": "b2a8b057",
   "metadata": {
    "ExecuteTime": {
     "end_time": "2021-12-16T14:15:31.979031Z",
     "start_time": "2021-12-16T14:15:31.744735Z"
    }
   },
   "outputs": [
    {
     "data": {
      "image/png": "[encoded data removed]",
      "text/plain": [
       "<Figure size 432x288 with 1 Axes>"
      ]
     },
     "metadata": {
      "needs_background": "light"
     },
     "output_type": "display_data"
    }
   ],
   "source": [
    "def sigmoid(z):\n",
    "    return 1.0 / (1.0 + np.exp(-z))\n",
    "\n",
    "\n",
    "z = np.arange(-10, 10, 0.1)\n",
    "h_z = sigmoid(z)  # logits\n",
    "\n",
    "# Value of cost function when y = 1\n",
    "# -log(h(x))\n",
    "cost_1 = [binary_cross_entropy(1, z_) for z_ in h_z]\n",
    "\n",
    "# Value of cost function when y = 0\n",
    "# -log(1 - h(x))\n",
    "cost_0 = [binary_cross_entropy(0, z_) for z_ in h_z]\n",
    "\n",
    "plt.plot(h_z, cost_1, label=\"J(w) if y=1\")\n",
    "plt.plot(h_z, cost_0, label=\"J(w) if y=0\")\n",
    "plt.xlabel(\"h_z\")\n",
    "plt.ylabel(\"J(w)\")\n",
    "plt.legend(loc=\"best\")\n",
    "plt.tight_layout()\n",
    "plt.show()"
   ]
  },
  {
   "cell_type": "markdown",
   "id": "06f9f7fb",
   "metadata": {},
   "source": [
    "### Multi-class Classification\n",
    "\n",
    "- **Output Layer Configuration:** One node for each class using the softmax activation function.\n",
    "- **Loss Function:** Cross-Entropy, also referred to as Logarithmic loss."
   ]
  },
  {
   "cell_type": "code",
   "execution_count": 5,
   "id": "afce6fb4",
   "metadata": {
    "ExecuteTime": {
     "end_time": "2021-12-16T14:15:31.994388Z",
     "start_time": "2021-12-16T14:15:31.983000Z"
    }
   },
   "outputs": [],
   "source": [
    "def categorical_cross_entropy(y_true: np.ndarray, y_pred: np.ndarray) -> float:\n",
    "    \"\"\"\n",
    "    y_true: ground-truth labels where each is one of (0, 1)\n",
    "    y_pred: predictions between [0, 1]\n",
    "\n",
    "    Note:\n",
    "        If y_pred are logits, it's necessary to run softmax.\n",
    "    \"\"\"\n",
    "    y_pred = np.clip(y_pred, 1e-7, 1 - 1e-7)  # clip to avoid log(0)\n",
    "    return np.sum(y_true * -np.log(y_pred), axis=0).mean()"
   ]
  },
  {
   "cell_type": "code",
   "execution_count": 6,
   "id": "d4ad4ee1",
   "metadata": {
    "ExecuteTime": {
     "end_time": "2021-12-16T14:15:32.009221Z",
     "start_time": "2021-12-16T14:15:31.999014Z"
    }
   },
   "outputs": [
    {
     "data": {
      "text/plain": [
       "0.7846261291271986"
      ]
     },
     "execution_count": 6,
     "metadata": {},
     "output_type": "execute_result"
    }
   ],
   "source": [
    "y_true = np.array([[0, 1, 0], [0, 0, 1]])\n",
    "y_pred = np.array([[0.05, 0.95, 0.05], [0.1, 0.8, 0.1]])  # softmax\n",
    "\n",
    "categorical_cross_entropy(y_true, y_pred)"
   ]
  }
 ],
 "metadata": {
  "kernelspec": {
   "display_name": "Python 3 (ipykernel)",
   "language": "python",
   "name": "python3"
  },
  "language_info": {
   "codemirror_mode": {
    "name": "ipython",
    "version": 3
   },
   "file_extension": ".py",
   "mimetype": "text/x-python",
   "name": "python",
   "nbconvert_exporter": "python",
   "pygments_lexer": "ipython3",
   "version": "3.9.9"
  },
  "toc": {
   "base_numbering": 1,
   "nav_menu": {},
   "number_sections": false,
   "sideBar": true,
   "skip_h1_title": true,
   "title_cell": "Table of Contents",
   "title_sidebar": "Contents",
   "toc_cell": false,
   "toc_position": {
    "height": "calc(100% - 180px)",
    "left": "10px",
    "top": "150px",
    "width": "165px"
   },
   "toc_section_display": true,
   "toc_window_display": false
  }
 },
 "nbformat": 4,
 "nbformat_minor": 5
}

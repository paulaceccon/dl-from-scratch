{
 "cells": [
  {
   "cell_type": "markdown",
   "id": "59f502d9",
   "metadata": {},
   "source": [
    "### Notebooks\n",
    "\n",
    "<a href=\"https://colab.research.google.com/github/paulaceccon/dl-from-scratch/blob/main/index.ipynb\" target=\"_parent\" style=\"float: left;\"><img src=\"https://colab.research.google.com/assets/colab-badge.svg\" alt=\"Open In Colab\"/></a>"
   ]
  },
  {
   "cell_type": "markdown",
   "id": "2ff4ca5d",
   "metadata": {
    "ExecuteTime": {
     "end_time": "2021-12-07T12:03:43.755889Z",
     "start_time": "2021-12-07T12:03:43.744560Z"
    }
   },
   "source": [
    "- [k-Nearest Neighbors](notebooks/knn.ipynb)\n",
    "- [k-Means](notebooks/kmeans.ipynb)\n",
    "- [Gradient Descent](notebooks/gradient_descent.ipynb)\n",
    "- [Activation Functions](notebooks/activation_functions.ipynb)\n",
    "- [Loss Functions](notebooks/loss_functions.ipynb)\n",
    "- [Ordinary Least Squares](notebooks/ordinary_least_squares.ipynb)\n",
    "- [Mixture Models: Expectation-Maximization](notebooks/expectation_maximization.ipynb)"
   ]
  }
 ],
 "metadata": {
  "kernelspec": {
   "display_name": "Python 3 (ipykernel)",
   "language": "python",
   "name": "python3"
  },
  "language_info": {
   "codemirror_mode": {
    "name": "ipython",
    "version": 3
   },
   "file_extension": ".py",
   "mimetype": "text/x-python",
   "name": "python",
   "nbconvert_exporter": "python",
   "pygments_lexer": "ipython3",
   "version": "3.9.9"
  },
  "toc": {
   "base_numbering": 1,
   "nav_menu": {},
   "number_sections": false,
   "sideBar": true,
   "skip_h1_title": true,
   "title_cell": "Table of Contents",
   "title_sidebar": "Contents",
   "toc_cell": false,
   "toc_position": {},
   "toc_section_display": true,
   "toc_window_display": true
  }
 },
 "nbformat": 4,
 "nbformat_minor": 5
}
